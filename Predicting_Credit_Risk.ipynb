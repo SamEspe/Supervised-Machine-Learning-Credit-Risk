{
 "cells": [
  {
   "cell_type": "markdown",
   "id": "3ed75774",
   "metadata": {},
   "source": [
    "# Supervised Machine Learning: Predicting Credit Risk"
   ]
  },
  {
   "cell_type": "markdown",
   "id": "ea3113ef",
   "metadata": {},
   "source": [
    "### Set Up"
   ]
  },
  {
   "cell_type": "code",
   "execution_count": 1,
   "id": "54a23c17",
   "metadata": {},
   "outputs": [],
   "source": [
    "# Import dependencies\n",
    "import pandas as pd\n",
    "from sklearn.linear_model import LinearRegression\n",
    "import matplotlib.pyplot as plt\n"
   ]
  },
  {
   "cell_type": "code",
   "execution_count": 18,
   "id": "f6420174",
   "metadata": {},
   "outputs": [
    {
     "data": {
      "text/plain": [
       "(77536, 8)"
      ]
     },
     "execution_count": 18,
     "metadata": {},
     "output_type": "execute_result"
    }
   ],
   "source": [
    "# Read in data\n",
    "\n",
    "file_path = \"Resources/lending_data.csv\"\n",
    "\n",
    "lending_data = pd.read_csv(file_path)\n",
    "lending_data.shape"
   ]
  },
  {
   "cell_type": "code",
   "execution_count": 19,
   "id": "d4396ef6",
   "metadata": {},
   "outputs": [
    {
     "data": {
      "text/plain": [
       "(5229, 8)"
      ]
     },
     "execution_count": 19,
     "metadata": {},
     "output_type": "execute_result"
    }
   ],
   "source": [
    "# Clean data set: remove duplicates and entries that contain NaN values\n",
    "\n",
    "lending_data_no_dups = lending_data.drop_duplicates()\n",
    "lending_data_no_dups.shape"
   ]
  },
  {
   "cell_type": "code",
   "execution_count": 22,
   "id": "587ab82b",
   "metadata": {},
   "outputs": [
    {
     "data": {
      "text/plain": [
       "(5229, 8)"
      ]
     },
     "execution_count": 22,
     "metadata": {},
     "output_type": "execute_result"
    }
   ],
   "source": [
    "lending_data_clean = lending_data_no_dups.dropna()\n",
    "lending_data_clean.shape"
   ]
  },
  {
   "cell_type": "code",
   "execution_count": 21,
   "id": "af910fd9",
   "metadata": {},
   "outputs": [],
   "source": [
    "# Scale data set"
   ]
  },
  {
   "cell_type": "code",
   "execution_count": 9,
   "id": "6fd1d457",
   "metadata": {},
   "outputs": [],
   "source": [
    "# Remove loan_status from data set\n",
    "\n",
    "y = lending_data[\"loan_status\"]\n",
    "X = lending_data.drop(columns = \"loan_status\")"
   ]
  },
  {
   "cell_type": "code",
   "execution_count": null,
   "id": "e39df52d",
   "metadata": {},
   "outputs": [],
   "source": [
    "# Split training set and testing set"
   ]
  },
  {
   "cell_type": "markdown",
   "id": "bf4979ec",
   "metadata": {},
   "source": [
    "### Prediction"
   ]
  },
  {
   "cell_type": "code",
   "execution_count": null,
   "id": "00abfab6",
   "metadata": {},
   "outputs": [],
   "source": []
  },
  {
   "cell_type": "markdown",
   "id": "40f50d34",
   "metadata": {},
   "source": [
    "### Logistic Regression"
   ]
  },
  {
   "cell_type": "code",
   "execution_count": 10,
   "id": "2440bfa0",
   "metadata": {},
   "outputs": [],
   "source": [
    "# Make logistic regressor"
   ]
  },
  {
   "cell_type": "code",
   "execution_count": null,
   "id": "e632ed15",
   "metadata": {},
   "outputs": [],
   "source": [
    "# Train model on training set"
   ]
  },
  {
   "cell_type": "code",
   "execution_count": null,
   "id": "2409e30b",
   "metadata": {},
   "outputs": [],
   "source": [
    "# Test model on testing set "
   ]
  },
  {
   "cell_type": "code",
   "execution_count": null,
   "id": "77e05b14",
   "metadata": {},
   "outputs": [],
   "source": [
    "# Evaluate effectiveness"
   ]
  },
  {
   "cell_type": "markdown",
   "id": "d8e53ff0",
   "metadata": {},
   "source": [
    "### Random Forest Classifier"
   ]
  },
  {
   "cell_type": "code",
   "execution_count": 11,
   "id": "bd4ac59e",
   "metadata": {},
   "outputs": [],
   "source": [
    "# Make random forest classifier"
   ]
  },
  {
   "cell_type": "code",
   "execution_count": 12,
   "id": "4a514d8e",
   "metadata": {},
   "outputs": [],
   "source": [
    "# Train model on training set"
   ]
  },
  {
   "cell_type": "code",
   "execution_count": 13,
   "id": "de3e25ea",
   "metadata": {},
   "outputs": [],
   "source": [
    "# Test model on testing set"
   ]
  },
  {
   "cell_type": "code",
   "execution_count": null,
   "id": "241dba81",
   "metadata": {},
   "outputs": [],
   "source": [
    "# Evaluate effectiveness"
   ]
  },
  {
   "cell_type": "markdown",
   "id": "6d736c72",
   "metadata": {},
   "source": [
    "### Analysis and Conclusions"
   ]
  },
  {
   "cell_type": "code",
   "execution_count": null,
   "id": "a53140d2",
   "metadata": {},
   "outputs": [],
   "source": []
  }
 ],
 "metadata": {
  "kernelspec": {
   "display_name": "Python 3 (ipykernel)",
   "language": "python",
   "name": "python3"
  },
  "language_info": {
   "codemirror_mode": {
    "name": "ipython",
    "version": 3
   },
   "file_extension": ".py",
   "mimetype": "text/x-python",
   "name": "python",
   "nbconvert_exporter": "python",
   "pygments_lexer": "ipython3",
   "version": "3.8.13"
  }
 },
 "nbformat": 4,
 "nbformat_minor": 5
}
