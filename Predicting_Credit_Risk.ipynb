{
 "cells": [
  {
   "cell_type": "markdown",
   "id": "3ed75774",
   "metadata": {},
   "source": [
    "# Supervised Machine Learning: Predicting Credit Risk"
   ]
  },
  {
   "cell_type": "markdown",
   "id": "ea3113ef",
   "metadata": {},
   "source": [
    "### Set Up"
   ]
  },
  {
   "cell_type": "code",
   "execution_count": 2,
   "id": "54a23c17",
   "metadata": {},
   "outputs": [],
   "source": [
    "# Import dependencies\n",
    "import pandas as pd\n",
    "from sklearn.linear_model import LogisticRegression\n",
    "from sklearn.preprocessing import StandardScaler\n",
    "from sklearn.model_selection import train_test_split\n",
    "from sklearn.metrics import confusion_matrix\n",
    "from sklearn.ensemble import RandomForestClassifier\n",
    "import matplotlib.pyplot as plt"
   ]
  },
  {
   "cell_type": "code",
   "execution_count": 3,
   "id": "f6420174",
   "metadata": {},
   "outputs": [
    {
     "data": {
      "text/plain": [
       "(77536, 8)"
      ]
     },
     "execution_count": 3,
     "metadata": {},
     "output_type": "execute_result"
    }
   ],
   "source": [
    "# Read in data\n",
    "\n",
    "file_path = \"Resources/lending_data.csv\"\n",
    "\n",
    "lending_data = pd.read_csv(file_path)\n",
    "lending_data.shape"
   ]
  },
  {
   "cell_type": "code",
   "execution_count": 4,
   "id": "6fd1d457",
   "metadata": {},
   "outputs": [],
   "source": [
    "# Remove loan_status from data set\n",
    "\n",
    "y = lending_data[\"loan_status\"]\n",
    "X = lending_data.drop(columns = \"loan_status\")"
   ]
  },
  {
   "cell_type": "code",
   "execution_count": 5,
   "id": "e39df52d",
   "metadata": {},
   "outputs": [],
   "source": [
    "# Split training set and testing set\n",
    "X_train, X_test, y_train, y_test = train_test_split(X, y, random_state = 42)"
   ]
  },
  {
   "cell_type": "code",
   "execution_count": 6,
   "id": "af910fd9",
   "metadata": {},
   "outputs": [],
   "source": [
    "# Scale data sets\n",
    "scaler = StandardScaler().fit(X_train)\n",
    "X_train_scaled = scaler.transform(X_train)\n",
    "X_test_scaled = scaler.transform(X_test)"
   ]
  },
  {
   "cell_type": "markdown",
   "id": "bf4979ec",
   "metadata": {},
   "source": [
    "### Prediction"
   ]
  },
  {
   "cell_type": "markdown",
   "id": "bea8a606",
   "metadata": {},
   "source": [
    "I predict that the Random Forest Classifier will perform better. The `borrower_income`, `debt_to_income`, and `total_debt` fields are all related to one another. An underlying assumption of the Logistic Regression is that the independent variables aren't correlated, and that isn't true in this case."
   ]
  },
  {
   "cell_type": "markdown",
   "id": "40f50d34",
   "metadata": {},
   "source": [
    "### Logistic Regression"
   ]
  },
  {
   "cell_type": "code",
   "execution_count": 7,
   "id": "2440bfa0",
   "metadata": {},
   "outputs": [],
   "source": [
    "# Make logistic regressor\n",
    "\n",
    "log_res = LogisticRegression()"
   ]
  },
  {
   "cell_type": "code",
   "execution_count": 8,
   "id": "e632ed15",
   "metadata": {},
   "outputs": [
    {
     "data": {
      "text/plain": [
       "LogisticRegression()"
      ]
     },
     "execution_count": 8,
     "metadata": {},
     "output_type": "execute_result"
    }
   ],
   "source": [
    "# Train model on training set\n",
    "\n",
    "log_res.fit(X_train_scaled, y_train)"
   ]
  },
  {
   "cell_type": "code",
   "execution_count": 9,
   "id": "2409e30b",
   "metadata": {},
   "outputs": [
    {
     "name": "stdout",
     "output_type": "stream",
     "text": [
      "Model score on training set: 0.9941188609162196\n",
      "Model score on testing set: 0.9941704498555509\n"
     ]
    }
   ],
   "source": [
    "# Test model\n",
    "\n",
    "print(f'Model score on training set: {log_res.score(X_train_scaled, y_train)}')\n",
    "print(f'Model score on testing set: {log_res.score(X_test_scaled, y_test)}')"
   ]
  },
  {
   "cell_type": "code",
   "execution_count": 25,
   "id": "77e05b14",
   "metadata": {},
   "outputs": [
    {
     "data": {
      "text/plain": [
       "array([[18690,   102],\n",
       "       [   11,   581]], dtype=int64)"
      ]
     },
     "execution_count": 25,
     "metadata": {},
     "output_type": "execute_result"
    }
   ],
   "source": [
    "# Evaluate effectiveness\n",
    "\n",
    "y_true_lr = y_test\n",
    "y_pred_lr = log_res.predict(X_test_scaled)\n",
    "\n",
    "confusion_matrix(y_true_lr, y_pred_lr)"
   ]
  },
  {
   "cell_type": "code",
   "execution_count": 26,
   "id": "dfc29afb",
   "metadata": {},
   "outputs": [
    {
     "name": "stdout",
     "output_type": "stream",
     "text": [
      "True Negatives: 18690, False Positives: 102\n",
      "False Negatives: 11, True Positives: 581\n"
     ]
    }
   ],
   "source": [
    "tn_lr, fp_lr, fn_lr, tp_lr = confusion_matrix(y_true_lr, y_pred_lr).ravel()\n",
    "\n",
    "print(f'True Negatives: {tn_lr}, False Positives: {fp_lr}')\n",
    "print(f'False Negatives: {fn_lr}, True Positives: {tp_lr}')"
   ]
  },
  {
   "cell_type": "code",
   "execution_count": 27,
   "id": "3a8018b7",
   "metadata": {},
   "outputs": [
    {
     "name": "stdout",
     "output_type": "stream",
     "text": [
      "Precision: 0.8506588579795022\n"
     ]
    }
   ],
   "source": [
    "precision_lr = tp_lr/(tp_lr+fp_lr)\n",
    "print(f'Precision: {precision_lr}')"
   ]
  },
  {
   "cell_type": "code",
   "execution_count": 28,
   "id": "e0a7e9ff",
   "metadata": {},
   "outputs": [
    {
     "name": "stdout",
     "output_type": "stream",
     "text": [
      "Sensitivity: 0.981418918918919\n"
     ]
    }
   ],
   "source": [
    "sensitivity_lr = tp_lr/(tp_lr+fn_lr)\n",
    "print(f'Sensitivity: {sensitivity_lr}')"
   ]
  },
  {
   "cell_type": "markdown",
   "id": "d8e53ff0",
   "metadata": {},
   "source": [
    "### Random Forest Classifier"
   ]
  },
  {
   "cell_type": "code",
   "execution_count": 17,
   "id": "19f571e1",
   "metadata": {},
   "outputs": [],
   "source": [
    "# Create model\n",
    "\n",
    "rand_forest = RandomForestClassifier(n_estimators=100, random_state = 42)"
   ]
  },
  {
   "cell_type": "code",
   "execution_count": 19,
   "id": "4a514d8e",
   "metadata": {},
   "outputs": [
    {
     "data": {
      "text/plain": [
       "RandomForestClassifier(random_state=42)"
      ]
     },
     "execution_count": 19,
     "metadata": {},
     "output_type": "execute_result"
    }
   ],
   "source": [
    "# Train model on training set\n",
    "\n",
    "rand_forest.fit(X_train_scaled, y_train)"
   ]
  },
  {
   "cell_type": "code",
   "execution_count": 20,
   "id": "de3e25ea",
   "metadata": {},
   "outputs": [
    {
     "name": "stdout",
     "output_type": "stream",
     "text": [
      "Model score on training set: 0.9971798046498831\n",
      "Model score on testing set: 0.9917457697069748\n"
     ]
    }
   ],
   "source": [
    "# Test model on testing set\n",
    "\n",
    "print(f'Model score on training set: {rand_forest.score(X_train_scaled, y_train)}')\n",
    "print(f'Model score on testing set: {rand_forest.score(X_test_scaled, y_test)}')"
   ]
  },
  {
   "cell_type": "code",
   "execution_count": 21,
   "id": "241dba81",
   "metadata": {},
   "outputs": [
    {
     "data": {
      "text/plain": [
       "array([[18694,    98],\n",
       "       [   62,   530]], dtype=int64)"
      ]
     },
     "execution_count": 21,
     "metadata": {},
     "output_type": "execute_result"
    }
   ],
   "source": [
    "# Evaluate effectiveness\n",
    "\n",
    "y_true_rf = y_test\n",
    "y_pred_rf = rand_forest.predict(X_test_scaled)\n",
    "\n",
    "confusion_matrix(y_true_rf, y_pred_rf)"
   ]
  },
  {
   "cell_type": "code",
   "execution_count": 22,
   "id": "a4f59276",
   "metadata": {},
   "outputs": [
    {
     "name": "stdout",
     "output_type": "stream",
     "text": [
      "True Negatives: 18694, False Positives: 98\n",
      "False Negatives: 62, True Positives: 530\n"
     ]
    }
   ],
   "source": [
    "tn_rf, fp_rf, fn_rf, tp_rf = confusion_matrix(y_true_rf, y_pred_rf).ravel()\n",
    "\n",
    "print(f'True Negatives: {tn_rf}, False Positives: {fp_rf}')\n",
    "print(f'False Negatives: {fn_rf}, True Positives: {tp_rf}')"
   ]
  },
  {
   "cell_type": "code",
   "execution_count": 23,
   "id": "333b008f",
   "metadata": {},
   "outputs": [
    {
     "name": "stdout",
     "output_type": "stream",
     "text": [
      "Precision: 0.8439490445859873\n"
     ]
    }
   ],
   "source": [
    "precision_rf = tp_rf/(tp_rf+fp_rf)\n",
    "print(f'Precision: {precision_rf}')"
   ]
  },
  {
   "cell_type": "code",
   "execution_count": 24,
   "id": "178a2471",
   "metadata": {},
   "outputs": [
    {
     "name": "stdout",
     "output_type": "stream",
     "text": [
      "Sensitivity: 0.8952702702702703\n"
     ]
    }
   ],
   "source": [
    "sensitivity_rf = tp_rf/(tp_rf+fn_rf)\n",
    "print(f'Sensitivity: {sensitivity_rf}')"
   ]
  },
  {
   "cell_type": "markdown",
   "id": "6d736c72",
   "metadata": {},
   "source": [
    "### Analysis and Conclusions"
   ]
  },
  {
   "cell_type": "code",
   "execution_count": null,
   "id": "a53140d2",
   "metadata": {},
   "outputs": [],
   "source": []
  }
 ],
 "metadata": {
  "kernelspec": {
   "display_name": "Python 3 (ipykernel)",
   "language": "python",
   "name": "python3"
  },
  "language_info": {
   "codemirror_mode": {
    "name": "ipython",
    "version": 3
   },
   "file_extension": ".py",
   "mimetype": "text/x-python",
   "name": "python",
   "nbconvert_exporter": "python",
   "pygments_lexer": "ipython3",
   "version": "3.8.13"
  }
 },
 "nbformat": 4,
 "nbformat_minor": 5
}
